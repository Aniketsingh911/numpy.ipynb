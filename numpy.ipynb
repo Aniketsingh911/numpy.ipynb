{
 "cells": [
  {
   "cell_type": "code",
   "execution_count": 1,
   "metadata": {},
   "outputs": [],
   "source": [
    "import numpy as np"
   ]
  },
  {
   "cell_type": "code",
   "execution_count": 2,
   "metadata": {},
   "outputs": [
    {
     "name": "stdout",
     "output_type": "stream",
     "text": [
      "[0. 0. 0. 0. 0. 0. 0. 0. 0.]\n"
     ]
    }
   ],
   "source": [
    "# ques 1\n",
    "import numpy as np\n",
    "arr = np.zeros(9)\n",
    "print(arr)"
   ]
  },
  {
   "cell_type": "code",
   "execution_count": 3,
   "metadata": {},
   "outputs": [
    {
     "name": "stdout",
     "output_type": "stream",
     "text": [
      "[1. 1. 1. 1. 1. 1. 1. 1. 1.]\n"
     ]
    }
   ],
   "source": [
    "# ques 2\n",
    "arr = np.ones(9)\n",
    "print(arr)"
   ]
  },
  {
   "cell_type": "code",
   "execution_count": 5,
   "metadata": {},
   "outputs": [
    {
     "name": "stdout",
     "output_type": "stream",
     "text": [
      "[[0 1 2]\n",
      " [3 4 5]\n",
      " [6 7 8]]\n"
     ]
    }
   ],
   "source": [
    "# ques\n",
    "import numpy as np\n",
    "a = np.arange(0,9).reshape(3,3)\n",
    "print(a)"
   ]
  },
  {
   "cell_type": "code",
   "execution_count": 6,
   "metadata": {},
   "outputs": [
    {
     "data": {
      "text/plain": [
       "array([[0, 1, 2],\n",
       "       [3, 4, 5],\n",
       "       [6, 7, 8]])"
      ]
     },
     "execution_count": 6,
     "metadata": {},
     "output_type": "execute_result"
    }
   ],
   "source": [
    "np.array(([0,1,2],[3,4,5],[6,7,8]))\n"
   ]
  },
  {
   "cell_type": "code",
   "execution_count": 7,
   "metadata": {},
   "outputs": [
    {
     "name": "stdout",
     "output_type": "stream",
     "text": [
      "[[8 7 6]\n",
      " [2 4 3]\n",
      " [2 1 0]]\n"
     ]
    }
   ],
   "source": [
    "a = np.array(([0,1,2],[3,4,2],[6,7,8]))\n",
    "res = np.flip(a)  \n",
    "print(res)"
   ]
  },
  {
   "cell_type": "code",
   "execution_count": 8,
   "metadata": {},
   "outputs": [
    {
     "data": {
      "text/plain": [
       "array([1, 3, 5, 7])"
      ]
     },
     "execution_count": 8,
     "metadata": {},
     "output_type": "execute_result"
    }
   ],
   "source": [
    "a = np.array(([0,1,2],[3,4,5],[6,7,8]))\n",
    "a[a%2==1]"
   ]
  },
  {
   "cell_type": "code",
   "execution_count": 11,
   "metadata": {},
   "outputs": [
    {
     "name": "stdout",
     "output_type": "stream",
     "text": [
      "the x array are \n",
      "[[10  5  5  1]\n",
      " [ 6  9  9  1]\n",
      " [ 6 10 10  6]\n",
      " [ 8  6  7 10]]\n",
      "the y array are \n",
      "[[ 8  3  6  6]\n",
      " [10  6  5  2]\n",
      " [ 2  6  8  9]\n",
      " [ 5  1  8  5]]\n",
      "--------------------\n",
      "the sum of array is :\n",
      " [[18  8 11  7]\n",
      " [16 15 14  3]\n",
      " [ 8 16 18 15]\n",
      " [13  7 15 15]]\n",
      "the multiplication of array is :\n",
      "[[80 15 30  6]\n",
      " [60 54 45  2]\n",
      " [12 60 80 54]\n",
      " [40  6 56 50]]\n"
     ]
    }
   ],
   "source": [
    "x = np.random.randint(1,11,(4,4))\n",
    "y = np .random.randint(1,11,(4,4))\n",
    "print(f'the x array are \\n{x}')\n",
    "print(f'the y array are \\n{y}')\n",
    "print('-'*20)\n",
    "print(f'the sum of array is :\\n {x+y}')\n",
    "print(f'the multiplication of array is :\\n{x*y}')"
   ]
  },
  {
   "cell_type": "code",
   "execution_count": 13,
   "metadata": {},
   "outputs": [
    {
     "name": "stdout",
     "output_type": "stream",
     "text": [
      "[[ 7  0  4  1  9]\n",
      " [ 6  6  8  4  4]\n",
      " [ 3  9  7  4  8]\n",
      " [ 6  1 10  6  7]\n",
      " [ 0 10  7  4  0]]\n",
      "the maximum value is : 10\n",
      "the minimum value is : 1\n"
     ]
    }
   ],
   "source": [
    "b = np.random.randint(0,11,(5,5))\n",
    "print(b)\n",
    "bmin,bmax = x.min(),x.max()\n",
    "print(f'the maximum value is : {bmax}')\n",
    "print(f'the minimum value is : {bmin}')"
   ]
  },
  {
   "cell_type": "code",
   "execution_count": 14,
   "metadata": {},
   "outputs": [
    {
     "name": "stdout",
     "output_type": "stream",
     "text": [
      "[[[1 0 1]\n",
      "  [1 0 1]]\n",
      "\n",
      " [[1 0 1]\n",
      "  [1 0 1]]]\n"
     ]
    }
   ],
   "source": [
    "x = np.array(([[1,0,1],[1,0,1]],[[1,0,1],[1,0,1]]))\n",
    "print(x)"
   ]
  },
  {
   "cell_type": "code",
   "execution_count": 16,
   "metadata": {},
   "outputs": [
    {
     "name": "stdout",
     "output_type": "stream",
     "text": [
      "[3 4 5 6]\n"
     ]
    }
   ],
   "source": [
    "arr = np.array([3,3,4,5,6,5,6,4])\n",
    "res = np.unique(arr)\n",
    "print(res)"
   ]
  },
  {
   "cell_type": "code",
   "execution_count": 17,
   "metadata": {},
   "outputs": [
    {
     "name": "stdout",
     "output_type": "stream",
     "text": [
      "[2 2 6 4]\n",
      "[2 4 6]\n"
     ]
    }
   ],
   "source": [
    "x = np.array(([[1,2,3],[5,2,6]],[[7,3,5],[7,4,3]]))\n",
    "a = x[x%2==0]\n",
    "print(a)\n",
    "r = np.unique(a)\n",
    "print(r)"
   ]
  },
  {
   "cell_type": "code",
   "execution_count": 18,
   "metadata": {},
   "outputs": [
    {
     "name": "stdout",
     "output_type": "stream",
     "text": [
      "[[[3 4 7]\n",
      "  [5 3 7]]\n",
      "\n",
      " [[6 2 5]\n",
      "  [3 2 1]]]\n"
     ]
    }
   ],
   "source": [
    "x = np.array(([[1,2,3],[5,2,6]],[[7,3,5],[7,4,3]]))\n",
    "a = np.flip(x)\n",
    "print(a)"
   ]
  },
  {
   "cell_type": "code",
   "execution_count": 21,
   "metadata": {},
   "outputs": [
    {
     "name": "stdout",
     "output_type": "stream",
     "text": [
      "the initial array is :- \n",
      "[[[1 1 1 2]\n",
      "  [2 2 2 3]\n",
      "  [3 3 3 4]]\n",
      "\n",
      " [[1 1 1 2]\n",
      "  [2 2 2 3]\n",
      "  [3 3 3 4]]]\n",
      "the reversed array is : - \n",
      "[[[2. 1. 1. 1.]\n",
      "  [3. 2. 2. 2.]\n",
      "  [4. 3. 3. 3.]]\n",
      "\n",
      " [[2. 1. 1. 1.]\n",
      "  [3. 2. 2. 2.]\n",
      "  [4. 3. 3. 3.]]]\n"
     ]
    }
   ],
   "source": [
    "initial_array = np.array(([[1,1,1,2],[2,2,2,3],[3,3,3,4]],[[1,1,1,2],[2,2,2,3],[3,3,3,4]]))\n",
    "index = 0 \n",
    "initial_shape = initial_array.shape\n",
    "reversed = np.empty(shape=initial_shape)\n",
    "for inner_array in initial_array:\n",
    "    reversed[index]=np.fliplr(inner_array)\n",
    "    index +=1\n",
    "print(f'the initial array is :- \\n{initial_array}')\n",
    "print(f'the reversed array is : - \\n{reversed}')"
   ]
  },
  {
   "cell_type": "code",
   "execution_count": 22,
   "metadata": {},
   "outputs": [
    {
     "name": "stdout",
     "output_type": "stream",
     "text": [
      "[[1 0 0 0 0 0 0]\n",
      " [0 4 0 0 0 0 0]\n",
      " [0 0 9 0 0 0 0]\n",
      " [0 0 0 0 0 0 0]\n",
      " [0 0 0 0 1 0 0]\n",
      " [0 0 0 0 0 2 0]\n",
      " [0 0 0 0 0 0 3]]\n"
     ]
    }
   ],
   "source": [
    "matrix = np.diag([1,4,9,0,1,2,3])\n",
    "print(matrix)"
   ]
  },
  {
   "cell_type": "code",
   "execution_count": null,
   "metadata": {},
   "outputs": [],
   "source": []
  }
 ],
 "metadata": {
  "kernelspec": {
   "display_name": "base",
   "language": "python",
   "name": "python3"
  },
  "language_info": {
   "codemirror_mode": {
    "name": "ipython",
    "version": 3
   },
   "file_extension": ".py",
   "mimetype": "text/x-python",
   "name": "python",
   "nbconvert_exporter": "python",
   "pygments_lexer": "ipython3",
   "version": "3.10.10"
  },
  "orig_nbformat": 4
 },
 "nbformat": 4,
 "nbformat_minor": 2
}
